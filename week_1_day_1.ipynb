{
  "nbformat": 4,
  "nbformat_minor": 0,
  "metadata": {
    "colab": {
      "provenance": [],
      "authorship_tag": "ABX9TyPF+cL9RnpeujePq0RGD+am",
      "include_colab_link": true
    },
    "kernelspec": {
      "name": "python3",
      "display_name": "Python 3"
    },
    "language_info": {
      "name": "python"
    }
  },
  "cells": [
    {
      "cell_type": "markdown",
      "metadata": {
        "id": "view-in-github",
        "colab_type": "text"
      },
      "source": [
        "<a href=\"https://colab.research.google.com/github/kumawatnikhil42/InfoObjects_training/blob/main/week_1_day_1.ipynb\" target=\"_parent\"><img src=\"https://colab.research.google.com/assets/colab-badge.svg\" alt=\"Open In Colab\"/></a>"
      ]
    },
    {
      "cell_type": "code",
      "execution_count": null,
      "metadata": {
        "colab": {
          "base_uri": "https://localhost:8080/"
        },
        "id": "MNgXfvUDC6MU",
        "outputId": "4476e743-2af3-4964-8188-0b56ea68c001"
      },
      "outputs": [
        {
          "output_type": "stream",
          "name": "stdout",
          "text": [
            "6\n"
          ]
        }
      ],
      "source": [
        "a=2\n",
        "b=4\n",
        "c=a+b\n",
        "print(c)"
      ]
    },
    {
      "cell_type": "code",
      "source": [
        "c=a*b\n",
        "print(c)"
      ],
      "metadata": {
        "colab": {
          "base_uri": "https://localhost:8080/"
        },
        "id": "sBiPLrPFWv2m",
        "outputId": "5f6a2c61-74ca-4674-cb43-691e28377113"
      },
      "execution_count": null,
      "outputs": [
        {
          "output_type": "stream",
          "name": "stdout",
          "text": [
            "8\n"
          ]
        }
      ]
    },
    {
      "cell_type": "code",
      "source": [
        "t1=\"abc\"\n",
        "t2=\"edf\"\n",
        "print(t1+t2)"
      ],
      "metadata": {
        "colab": {
          "base_uri": "https://localhost:8080/"
        },
        "id": "HJTM3gAyW_ME",
        "outputId": "e7b65c89-0b34-4082-d132-aa7d75721c16"
      },
      "execution_count": null,
      "outputs": [
        {
          "output_type": "stream",
          "name": "stdout",
          "text": [
            "abcedf\n"
          ]
        }
      ]
    },
    {
      "cell_type": "code",
      "source": [
        "pd={\"Name\":[\"Nikhil\",\"Sagar\",\"Ashutosh\"],\"Email\":[\"abc@gmail.com\",\"def@gmail.com\",\"ghi@gmail.com\"]}\n",
        "print(pd)"
      ],
      "metadata": {
        "colab": {
          "base_uri": "https://localhost:8080/"
        },
        "id": "Y6HSxWYeXMtU",
        "outputId": "9cf7df84-b282-4b0a-bd4a-a70b2d655cc9"
      },
      "execution_count": null,
      "outputs": [
        {
          "output_type": "stream",
          "name": "stdout",
          "text": [
            "{'Name': ['Nikhil', 'Sagar', 'Ashutosh'], 'Email': ['abc@gmail.com', 'def@gmail.com', 'ghi@gmail.com']}\n"
          ]
        }
      ]
    },
    {
      "cell_type": "code",
      "source": [
        "string=\"123\"\n",
        "integer=int(string)\n",
        "print(type(string))\n",
        "print(type(integer))"
      ],
      "metadata": {
        "colab": {
          "base_uri": "https://localhost:8080/"
        },
        "id": "OOfOtd4SYt6z",
        "outputId": "012c577e-8ada-46ac-8be0-1365917e0c04"
      },
      "execution_count": null,
      "outputs": [
        {
          "output_type": "stream",
          "name": "stdout",
          "text": [
            "<class 'str'>\n",
            "<class 'int'>\n"
          ]
        }
      ]
    },
    {
      "cell_type": "code",
      "source": [],
      "metadata": {
        "id": "JADj5Y1yZgaC"
      },
      "execution_count": null,
      "outputs": []
    }
  ]
}